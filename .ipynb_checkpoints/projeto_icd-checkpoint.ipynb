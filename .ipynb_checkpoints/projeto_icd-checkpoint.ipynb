{
 "cells": [
  {
   "cell_type": "code",
   "execution_count": 40,
   "metadata": {},
   "outputs": [],
   "source": [
    "import pandas as pd\n",
    "import numpy as np\n",
    "import matplotlib.pyplot as plt"
   ]
  },
  {
   "cell_type": "code",
   "execution_count": 68,
   "metadata": {},
   "outputs": [],
   "source": [
    "plt.rcParams['figure.figsize']  = (18, 10)\n",
    "plt.rcParams['axes.labelsize']  = 20\n",
    "plt.rcParams['axes.titlesize']  = 20\n",
    "plt.rcParams['legend.fontsize'] = 20\n",
    "plt.rcParams['xtick.labelsize'] = 20\n",
    "plt.rcParams['ytick.labelsize'] = 20\n",
    "plt.rcParams['lines.linewidth'] = 4\n",
    "plt.style.use('seaborn-colorblind')\n",
    "plt.ion()"
   ]
  },
  {
   "cell_type": "code",
   "execution_count": 42,
   "metadata": {},
   "outputs": [
    {
     "data": {
      "text/html": [
       "<div>\n",
       "<style scoped>\n",
       "    .dataframe tbody tr th:only-of-type {\n",
       "        vertical-align: middle;\n",
       "    }\n",
       "\n",
       "    .dataframe tbody tr th {\n",
       "        vertical-align: top;\n",
       "    }\n",
       "\n",
       "    .dataframe thead th {\n",
       "        text-align: right;\n",
       "    }\n",
       "</style>\n",
       "<table border=\"1\" class=\"dataframe\">\n",
       "  <thead>\n",
       "    <tr style=\"text-align: right;\">\n",
       "      <th></th>\n",
       "      <th>id</th>\n",
       "      <th>name</th>\n",
       "      <th>date</th>\n",
       "      <th>manner_of_death</th>\n",
       "      <th>armed</th>\n",
       "      <th>age</th>\n",
       "      <th>gender</th>\n",
       "      <th>race</th>\n",
       "      <th>city</th>\n",
       "      <th>state</th>\n",
       "      <th>signs_of_mental_illness</th>\n",
       "      <th>threat_level</th>\n",
       "      <th>flee</th>\n",
       "      <th>body_camera</th>\n",
       "      <th>arms_category</th>\n",
       "    </tr>\n",
       "  </thead>\n",
       "  <tbody>\n",
       "    <tr>\n",
       "      <th>0</th>\n",
       "      <td>3</td>\n",
       "      <td>Tim Elliot</td>\n",
       "      <td>2015-01-02</td>\n",
       "      <td>shot</td>\n",
       "      <td>gun</td>\n",
       "      <td>53.0</td>\n",
       "      <td>M</td>\n",
       "      <td>Asian</td>\n",
       "      <td>Shelton</td>\n",
       "      <td>WA</td>\n",
       "      <td>True</td>\n",
       "      <td>attack</td>\n",
       "      <td>Not fleeing</td>\n",
       "      <td>False</td>\n",
       "      <td>Guns</td>\n",
       "    </tr>\n",
       "    <tr>\n",
       "      <th>1</th>\n",
       "      <td>4</td>\n",
       "      <td>Lewis Lee Lembke</td>\n",
       "      <td>2015-01-02</td>\n",
       "      <td>shot</td>\n",
       "      <td>gun</td>\n",
       "      <td>47.0</td>\n",
       "      <td>M</td>\n",
       "      <td>White</td>\n",
       "      <td>Aloha</td>\n",
       "      <td>OR</td>\n",
       "      <td>False</td>\n",
       "      <td>attack</td>\n",
       "      <td>Not fleeing</td>\n",
       "      <td>False</td>\n",
       "      <td>Guns</td>\n",
       "    </tr>\n",
       "    <tr>\n",
       "      <th>2</th>\n",
       "      <td>5</td>\n",
       "      <td>John Paul Quintero</td>\n",
       "      <td>2015-01-03</td>\n",
       "      <td>shot and Tasered</td>\n",
       "      <td>unarmed</td>\n",
       "      <td>23.0</td>\n",
       "      <td>M</td>\n",
       "      <td>Hispanic</td>\n",
       "      <td>Wichita</td>\n",
       "      <td>KS</td>\n",
       "      <td>False</td>\n",
       "      <td>other</td>\n",
       "      <td>Not fleeing</td>\n",
       "      <td>False</td>\n",
       "      <td>Unarmed</td>\n",
       "    </tr>\n",
       "    <tr>\n",
       "      <th>3</th>\n",
       "      <td>8</td>\n",
       "      <td>Matthew Hoffman</td>\n",
       "      <td>2015-01-04</td>\n",
       "      <td>shot</td>\n",
       "      <td>toy weapon</td>\n",
       "      <td>32.0</td>\n",
       "      <td>M</td>\n",
       "      <td>White</td>\n",
       "      <td>San Francisco</td>\n",
       "      <td>CA</td>\n",
       "      <td>True</td>\n",
       "      <td>attack</td>\n",
       "      <td>Not fleeing</td>\n",
       "      <td>False</td>\n",
       "      <td>Other unusual objects</td>\n",
       "    </tr>\n",
       "    <tr>\n",
       "      <th>4</th>\n",
       "      <td>9</td>\n",
       "      <td>Michael Rodriguez</td>\n",
       "      <td>2015-01-04</td>\n",
       "      <td>shot</td>\n",
       "      <td>nail gun</td>\n",
       "      <td>39.0</td>\n",
       "      <td>M</td>\n",
       "      <td>Hispanic</td>\n",
       "      <td>Evans</td>\n",
       "      <td>CO</td>\n",
       "      <td>False</td>\n",
       "      <td>attack</td>\n",
       "      <td>Not fleeing</td>\n",
       "      <td>False</td>\n",
       "      <td>Piercing objects</td>\n",
       "    </tr>\n",
       "  </tbody>\n",
       "</table>\n",
       "</div>"
      ],
      "text/plain": [
       "   id                name        date   manner_of_death       armed   age  \\\n",
       "0   3          Tim Elliot  2015-01-02              shot         gun  53.0   \n",
       "1   4    Lewis Lee Lembke  2015-01-02              shot         gun  47.0   \n",
       "2   5  John Paul Quintero  2015-01-03  shot and Tasered     unarmed  23.0   \n",
       "3   8     Matthew Hoffman  2015-01-04              shot  toy weapon  32.0   \n",
       "4   9   Michael Rodriguez  2015-01-04              shot    nail gun  39.0   \n",
       "\n",
       "  gender      race           city state  signs_of_mental_illness threat_level  \\\n",
       "0      M     Asian        Shelton    WA                     True       attack   \n",
       "1      M     White          Aloha    OR                    False       attack   \n",
       "2      M  Hispanic        Wichita    KS                    False        other   \n",
       "3      M     White  San Francisco    CA                     True       attack   \n",
       "4      M  Hispanic          Evans    CO                    False       attack   \n",
       "\n",
       "          flee  body_camera          arms_category  \n",
       "0  Not fleeing        False                   Guns  \n",
       "1  Not fleeing        False                   Guns  \n",
       "2  Not fleeing        False                Unarmed  \n",
       "3  Not fleeing        False  Other unusual objects  \n",
       "4  Not fleeing        False       Piercing objects  "
      ]
     },
     "execution_count": 42,
     "metadata": {},
     "output_type": "execute_result"
    }
   ],
   "source": [
    "df = pd.read_csv('datasets/shootings.csv')\n",
    "df.head()"
   ]
  },
  {
   "cell_type": "code",
   "execution_count": 43,
   "metadata": {},
   "outputs": [
    {
     "name": "stdout",
     "output_type": "stream",
     "text": [
      "Asian: 36.56167593336281\n",
      "Black: 32.54994633407771\n",
      "Hispanic: 33.68384738540233\n",
      "Native: 31.732281165402185\n",
      "Other: 33.06495689377855\n",
      "White: 39.90948777049481\n",
      "Overall: 36.54974956621387\n"
     ]
    },
    {
     "data": {
      "image/png": "[encoded data removed]",
      "text/plain": [
       "<Figure size 1296x720 with 1 Axes>"
      ]
     },
     "metadata": {
      "needs_background": "light"
     },
     "output_type": "display_data"
    }
   ],
   "source": [
    "#Número de mortes por idade\n",
    "age = df['age']\n",
    "age.hist(edgecolor='k', bins=40).plot()\n",
    "\n",
    "agePerRace = df.groupby('race')['age'].mean()\n",
    "\n",
    "i = 0\n",
    "for item in agePerRace:\n",
    "    print(agePerRace.index[i] + \": \" + str(item))\n",
    "    i+= 1\n",
    "    \n",
    "print(\"Overall: \" + str(df['age'].mean()))"
   ]
  },
  {
   "cell_type": "markdown",
   "metadata": {},
   "source": [
    "As idades média dos mortos é cerca de 36.5 anos. A grande maioria das mortes é observada entre os 16 e os 60 anos.\n",
    "Há também certa variação na idade média agrupada por raça: destacam-se os brancos, com uma média de idade de quase 40 anos,\n",
    "seguidos pelos asiáticos, com 36.5, enquanto os outros grupos estão entre 31 e 33 anos."
   ]
  },
  {
   "cell_type": "code",
   "execution_count": 44,
   "metadata": {},
   "outputs": [
    {
     "data": {
      "image/png": "[encoded data removed]",
      "text/plain": [
       "<Figure size 1296x720 with 1 Axes>"
      ]
     },
     "metadata": {
      "needs_background": "light"
     },
     "output_type": "display_data"
    }
   ],
   "source": [
    "#Número de mortes por gênero\n",
    "labels, counts = np.unique(df['gender'], return_counts=True)\n",
    "plt.bar(labels, counts, align='center', edgecolor='k')\n",
    "plt.gca().set_xticks(labels)\n",
    "plt.show()"
   ]
  },
  {
   "cell_type": "markdown",
   "metadata": {},
   "source": [
    "A maioria das pessoas mortas pela polícia americana são homens."
   ]
  },
  {
   "cell_type": "code",
   "execution_count": 45,
   "metadata": {},
   "outputs": [
    {
     "name": "stdout",
     "output_type": "stream",
     "text": [
      "[0.0524, 0.1216, 0.1847, 0.0065, 0.0268, 0.6081]\n"
     ]
    }
   ],
   "source": [
    "usPop = pd.read_csv('datasets/acs2017_census_tract_data.csv')\n",
    "\n",
    "usPop['Other'] = round(100 - usPop['Hispanic'] - usPop['White'] - usPop['Black'] - usPop['Native'] - usPop['Asian'], 2)\n",
    "orderedRace = ['Asian','Black','Hispanic','Native','Other','White']\n",
    "\n",
    "usRacePop = pd.DataFrame(columns = [])\n",
    "arrayRacePop = []\n",
    "mortalityPerMillion = []\n",
    "usTotalPop = usPop['TotalPop'].sum()\n",
    "\n",
    "for item in orderedRace:\n",
    "    usRacePop[item + 'Pop'] = round(usPop[item] * usPop['TotalPop'] / 100)\n",
    "    arrayRacePop.append(round(usRacePop[item+'Pop'].sum() / usTotalPop, 4))\n",
    "\n",
    "print(arrayRacePop)\n",
    "#Obs: podem haver pequenas variações nos dados pelo uso do round nos métodos acima"
   ]
  },
  {
   "cell_type": "code",
   "execution_count": 46,
   "metadata": {
    "scrolled": true
   },
   "outputs": [
    {
     "data": {
      "image/png": "[encoded data removed]",
      "text/plain": [
       "<Figure size 1296x720 with 1 Axes>"
      ]
     },
     "metadata": {
      "needs_background": "light"
     },
     "output_type": "display_data"
    }
   ],
   "source": [
    "#Número de mortes por raça\n",
    "labels, counts = np.unique(df['race'], return_counts=True)\n",
    "plt.bar(labels, counts, align='center', edgecolor='k')\n",
    "plt.gca().set_xticks(labels)\n",
    "plt.show()"
   ]
  },
  {
   "cell_type": "markdown",
   "metadata": {},
   "source": [
    "Em geral, a polícia americana mata mais brancos, seguidos de negros e hispânicos. Agora, podemos comparar esses números com o tamanho de cada população nos Estados Unidos. "
   ]
  },
  {
   "cell_type": "code",
   "execution_count": 47,
   "metadata": {},
   "outputs": [
    {
     "data": {
      "image/png": "[encoded data removed]",
      "text/plain": [
       "<Figure size 1296x720 with 1 Axes>"
      ]
     },
     "metadata": {
      "needs_background": "light"
     },
     "output_type": "display_data"
    }
   ],
   "source": [
    "#Taxa de mortes por raça, por milhão de habitantes\n",
    "\n",
    "labels, counts = np.unique(df['race'], return_counts=True)\n",
    "\n",
    "Overall = counts.sum() / (usTotalPop / 1000000)   \n",
    "\n",
    "newCount = np.zeros(len(counts))\n",
    "for i in range(len(counts)):\n",
    "    newCount[i] = counts[i] / ((usTotalPop) * (arrayRacePop[i]) / 1000000.0)\n",
    "\n",
    "labels = np.append(labels, 'Overall')\n",
    "newCount = np.append(newCount, Overall)\n",
    "    \n",
    "plt.bar(labels, newCount, align='center', edgecolor='k')\n",
    "plt.gca().set_xticks(labels)\n",
    "plt.axhline(y = Overall, color='r')\n",
    "plt.show()"
   ]
  },
  {
   "cell_type": "markdown",
   "metadata": {},
   "source": [
    "Quando ajustamos as mortes pela população, vemos que a taxa de mortalidade para negros e nativos são mais do que o dobro da taxa média da população, seguidos por hispânicos e depois brancos, que estão um pouco abaixo da média.\n",
    "Um dos fatores que explicam a alta taxa dos nativos é a sua pequena população, isto é, poucas mortes podem aumentar significativamente essa taxa."
   ]
  },
  {
   "cell_type": "code",
   "execution_count": null,
   "metadata": {},
   "outputs": [],
   "source": []
  },
  {
   "cell_type": "code",
   "execution_count": null,
   "metadata": {},
   "outputs": [],
   "source": []
  },
  {
   "cell_type": "code",
   "execution_count": null,
   "metadata": {},
   "outputs": [],
   "source": []
  },
  {
   "cell_type": "code",
   "execution_count": null,
   "metadata": {},
   "outputs": [],
   "source": []
  },
  {
   "cell_type": "code",
   "execution_count": null,
   "metadata": {},
   "outputs": [],
   "source": []
  },
  {
   "cell_type": "code",
   "execution_count": null,
   "metadata": {},
   "outputs": [],
   "source": []
  },
  {
   "cell_type": "code",
   "execution_count": null,
   "metadata": {},
   "outputs": [],
   "source": []
  },
  {
   "cell_type": "code",
   "execution_count": null,
   "metadata": {},
   "outputs": [],
   "source": []
  },
  {
   "cell_type": "code",
   "execution_count": null,
   "metadata": {},
   "outputs": [],
   "source": []
  },
  {
   "cell_type": "code",
   "execution_count": null,
   "metadata": {},
   "outputs": [],
   "source": []
  },
  {
   "cell_type": "code",
   "execution_count": null,
   "metadata": {},
   "outputs": [],
   "source": []
  },
  {
   "cell_type": "code",
   "execution_count": null,
   "metadata": {},
   "outputs": [],
   "source": []
  },
  {
   "cell_type": "code",
   "execution_count": null,
   "metadata": {},
   "outputs": [],
   "source": []
  },
  {
   "cell_type": "code",
   "execution_count": null,
   "metadata": {},
   "outputs": [],
   "source": []
  }
 ],
 "metadata": {
  "kernelspec": {
   "display_name": "Python 3",
   "language": "python",
   "name": "python3"
  },
  "language_info": {
   "codemirror_mode": {
    "name": "ipython",
    "version": 3
   },
   "file_extension": ".py",
   "mimetype": "text/x-python",
   "name": "python",
   "nbconvert_exporter": "python",
   "pygments_lexer": "ipython3",
   "version": "3.8.3"
  }
 },
 "nbformat": 4,
 "nbformat_minor": 4
}
