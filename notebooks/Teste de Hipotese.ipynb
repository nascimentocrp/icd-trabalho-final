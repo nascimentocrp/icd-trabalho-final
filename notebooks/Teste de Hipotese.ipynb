{
 "cells": [
  {
   "cell_type": "code",
   "execution_count": 1,
   "metadata": {},
   "outputs": [],
   "source": [
    "import pandas as pd\n",
    "import numpy as np"
   ]
  },
  {
   "cell_type": "code",
   "execution_count": 4,
   "metadata": {},
   "outputs": [],
   "source": [
    "dfShootings = pd.read_csv('datasets/shootings.csv')\n",
    "usPop = pd.read_csv('datasets/acs2017_census_tract_data.csv')"
   ]
  },
  {
   "cell_type": "code",
   "execution_count": 7,
   "metadata": {},
   "outputs": [
    {
     "data": {
      "text/plain": [
       "[0.0524, 0.1216, 0.1847, 0.0065, 0.0268, 0.6081]"
      ]
     },
     "execution_count": 7,
     "metadata": {},
     "output_type": "execute_result"
    }
   ],
   "source": [
    "usPop['Other'] = round(100 - usPop['Hispanic'] - usPop['White'] - usPop['Black'] - usPop['Native'] - usPop['Asian'], 2)\n",
    "orderedRace = ['Asian','Black','Hispanic','Native','Other','White']\n",
    "\n",
    "usRacePop = pd.DataFrame(columns = [])\n",
    "arrayRacePop = []\n",
    "mortalityPerMillion = []\n",
    "usTotalPop = usPop['TotalPop'].sum()\n",
    "\n",
    "for item in orderedRace:\n",
    "    usRacePop[item + 'Pop'] = round(usPop[item] * usPop['TotalPop'] / 100)\n",
    "    arrayRacePop.append(round(usRacePop[item+'Pop'].sum() / usTotalPop, 4))\n",
    "    \n",
    "arrayRacePop"
   ]
  },
  {
   "cell_type": "code",
   "execution_count": null,
   "metadata": {},
   "outputs": [],
   "source": [
    "def sample_proportion(pop_size, prop, n=10000):\n",
    "    grupo = pop_size * prop\n",
    "    resultados = np.zeros(n)\n",
    "    for i in range(n):\n",
    "        sample = np.random.randint(0, pop_size, 100)\n",
    "        resultados[i] = np.sum(sample < grupo)\n",
    "    return resultados"
   ]
  }
 ],
 "metadata": {
  "kernelspec": {
   "display_name": "Python 3",
   "language": "python",
   "name": "python3"
  },
  "language_info": {
   "codemirror_mode": {
    "name": "ipython",
    "version": 3
   },
   "file_extension": ".py",
   "mimetype": "text/x-python",
   "name": "python",
   "nbconvert_exporter": "python",
   "pygments_lexer": "ipython3",
   "version": "3.8.3"
  }
 },
 "nbformat": 4,
 "nbformat_minor": 4
}
