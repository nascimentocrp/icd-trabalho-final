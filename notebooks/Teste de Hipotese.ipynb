{
 "cells": [
  {
   "cell_type": "code",
   "execution_count": 88,
   "metadata": {},
   "outputs": [],
   "source": [
    "import pandas as pd\n",
    "import numpy as np\n",
    "import matplotlib.pyplot as plt"
   ]
  },
  {
   "cell_type": "code",
   "execution_count": 89,
   "metadata": {},
   "outputs": [],
   "source": [
    "dfShootings = pd.read_csv('datasets/shootings.csv')\n",
    "usPop = pd.read_csv('datasets/acs2017_census_tract_data.csv')"
   ]
  },
  {
   "cell_type": "markdown",
   "metadata": {},
   "source": [
    "Descobrimos a proporção da população de acordo com o censo 2017"
   ]
  },
  {
   "cell_type": "code",
   "execution_count": 90,
   "metadata": {},
   "outputs": [
    {
     "data": {
      "text/plain": [
       "[0.60808, 0.12158, 0.18474, 0.05237, 0.00647, 0.02677]"
      ]
     },
     "execution_count": 90,
     "metadata": {},
     "output_type": "execute_result"
    }
   ],
   "source": [
    "usPop['Other'] = round(100 - usPop['Hispanic'] - usPop['White'] - usPop['Black'] - usPop['Native'] - usPop['Asian'], 2)\n",
    "orderedRace = ['White','Black','Hispanic','Asian','Native','Other']\n",
    "\n",
    "usRacePop = pd.DataFrame(columns = [])\n",
    "arrayRacePop = []\n",
    "mortalityPerMillion = []\n",
    "usTotalPop = usPop['TotalPop'].sum()\n",
    "\n",
    "for item in orderedRace:\n",
    "    usRacePop[item + 'Pop'] = round(usPop[item] * usPop['TotalPop'] / 100)\n",
    "    arrayRacePop.append(round(usRacePop[item+'Pop'].sum() / usTotalPop, 5))\n",
    "    \n",
    "arrayRacePop"
   ]
  },
  {
   "cell_type": "markdown",
   "metadata": {},
   "source": [
    "Descobrimos a proporção da amostra (o nosso dataset)."
   ]
  },
  {
   "cell_type": "code",
   "execution_count": 91,
   "metadata": {},
   "outputs": [
    {
     "data": {
      "text/plain": [
       "[0.5058, 0.2652, 0.1843, 0.019, 0.0159, 0.0098]"
      ]
     },
     "execution_count": 91,
     "metadata": {},
     "output_type": "execute_result"
    }
   ],
   "source": [
    "propSample = []\n",
    "propSample = list(round(dfShootings['race'].value_counts() / len(dfShootings), 4))\n",
    "propSample"
   ]
  },
  {
   "cell_type": "markdown",
   "metadata": {},
   "source": [
    "Suspeitamos que a proporção de mortes por raça/etnia não é equivalente."
   ]
  },
  {
   "cell_type": "code",
   "execution_count": 92,
   "metadata": {
    "scrolled": true
   },
   "outputs": [
    {
     "data": {
      "text/plain": [
       "Text(0, 0.5, 'Grupo')"
      ]
     },
     "execution_count": 92,
     "metadata": {},
     "output_type": "execute_result"
    },
    {
     "data": {
      "image/png": "[encoded data removed]",
      "text/plain": [
       "<Figure size 432x288 with 1 Axes>"
      ]
     },
     "metadata": {
      "needs_background": "light"
     },
     "output_type": "display_data"
    }
   ],
   "source": [
    "dfProp = pd.DataFrame(index=orderedRace)\n",
    "dfProp['pop'] = arrayRacePop\n",
    "dfProp['sample'] = propSample\n",
    "\n",
    "dfProp.plot.bar()\n",
    "plt.ylabel('Propopção')\n",
    "plt.ylabel('Grupo')"
   ]
  },
  {
   "cell_type": "markdown",
   "metadata": {},
   "source": [
    "# A) Hipótese Nula: A proporção de mortes por raça/etnia é equivalente"
   ]
  },
  {
   "cell_type": "markdown",
   "metadata": {},
   "source": [
    "Nossa abordagem consiste em simular várias amostras da população e comparar com a amostra do nosso dataset, através do TVD."
   ]
  },
  {
   "cell_type": "code",
   "execution_count": 93,
   "metadata": {},
   "outputs": [
    {
     "data": {
      "text/plain": [
       "0.15305499999999994"
      ]
     },
     "execution_count": 93,
     "metadata": {},
     "output_type": "execute_result"
    }
   ],
   "source": [
    "def total_variation(p, q):\n",
    "    return np.sum(np.abs(p - q)) / 2\n",
    "\n",
    "originalTVD = total_variation(dfProp['pop'], dfProp['sample'])\n",
    "originalTVD"
   ]
  },
  {
   "cell_type": "markdown",
   "metadata": {},
   "source": [
    "Criamos um DF que simula a população real, pegando as proporções de cada grupo no censo de 2017, calculado acima, com 5 pontos decimais de precisão."
   ]
  },
  {
   "cell_type": "code",
   "execution_count": 94,
   "metadata": {},
   "outputs": [
    {
     "name": "stdout",
     "output_type": "stream",
     "text": [
      "[0.60808, 0.12158, 0.18474, 0.05237, 0.00647, 0.02677]\n",
      "[0.60808 0.72966 0.9144  0.96677 0.97324 1.00001]\n"
     ]
    }
   ],
   "source": [
    "print(arrayRacePop)\n",
    "print(np.cumsum(arrayRacePop))"
   ]
  },
  {
   "cell_type": "code",
   "execution_count": 95,
   "metadata": {},
   "outputs": [],
   "source": [
    "popRace = []\n",
    "\n",
    "for i in range(100000):\n",
    "    popRace.append('White')\n",
    "    if(i > 60807):\n",
    "        popRace[i] = 'Black'\n",
    "    if(i > 72965):\n",
    "        popRace[i] = 'Hispanic'\n",
    "    if(i > 91439):\n",
    "        popRace[i] = 'Asian'\n",
    "    if(i > 96676):\n",
    "        popRace[i] = 'Native'\n",
    "    if(i > 97323):\n",
    "        popRace[i] = 'Other'"
   ]
  },
  {
   "cell_type": "markdown",
   "metadata": {},
   "source": [
    "Agora temos um dataframe com 100000 habitantes que deveriam representar a população.<br>\n",
    "Podemos checar se ele realmente representa a população contando os valores de cada grupo."
   ]
  },
  {
   "cell_type": "code",
   "execution_count": 96,
   "metadata": {
    "scrolled": false
   },
   "outputs": [
    {
     "data": {
      "text/plain": [
       "White       60808\n",
       "Hispanic    18474\n",
       "Black       12158\n",
       "Asian        5237\n",
       "Other        2676\n",
       "Native        647\n",
       "Name: race, dtype: int64"
      ]
     },
     "execution_count": 96,
     "metadata": {},
     "output_type": "execute_result"
    }
   ],
   "source": [
    "df = pd.DataFrame()\n",
    "df['race'] = popRace\n",
    "\n",
    "df['race'].value_counts()"
   ]
  },
  {
   "cell_type": "markdown",
   "metadata": {},
   "source": [
    "Em geral, <b>sim!</b><br>"
   ]
  },
  {
   "cell_type": "markdown",
   "metadata": {},
   "source": [
    "Para gerar uma amostra, fazemos um shuffle no dataframe e pegamos os primeiros N elementos."
   ]
  },
  {
   "cell_type": "code",
   "execution_count": 97,
   "metadata": {},
   "outputs": [],
   "source": [
    "def gera_amostra(df, n):\n",
    "    np.random.shuffle(df.values)\n",
    "    sample = df.iloc[0:n]\n",
    "    \n",
    "    sampleProp = []\n",
    "    for idx in orderedRace:\n",
    "        sampleProp.append(round((sample['race'] == idx).sum() / n, 4))\n",
    "    return sampleProp"
   ]
  },
  {
   "cell_type": "markdown",
   "metadata": {},
   "source": [
    "Geramos 5000 amostras de mesmo tamanho que o nosso dataset e calculamos a distância entre as proporções dos grupos amostrados e a proporção da população real."
   ]
  },
  {
   "cell_type": "code",
   "execution_count": 84,
   "metadata": {},
   "outputs": [],
   "source": [
    "#CUIDADO, PODE DEMORAR ALGUNS MINUTOS\n",
    "N = len(dfShootings)\n",
    "bN = 5000 #bootstrap N\n",
    "\n",
    "A = []\n",
    "for i in range(bN):\n",
    "    A.append(gera_amostra(df, N))\n",
    "A = np.array(A)\n",
    "    \n",
    "all_distances = []\n",
    "for i in range(bN):\n",
    "    all_distances.append(total_variation(arrayRacePop, A[i]))\n",
    "all_distances = np.array(all_distances)"
   ]
  },
  {
   "cell_type": "markdown",
   "metadata": {},
   "source": [
    "Calculamos um índice de confiança baseado na distribuição amostral gerada pelo bootstrap, a 95% de confiança, e plotamos o histograma.<br>\n",
    "Calculamos o TVD entre a nossa amostra(dataset) e a proporção da população real."
   ]
  },
  {
   "cell_type": "code",
   "execution_count": 85,
   "metadata": {
    "scrolled": false
   },
   "outputs": [
    {
     "data": {
      "image/png": "[encoded data removed]",
      "text/plain": [
       "<Figure size 720x360 with 1 Axes>"
      ]
     },
     "metadata": {
      "needs_background": "light"
     },
     "output_type": "display_data"
    }
   ],
   "source": [
    "inferior, superior = np.percentile(all_distances, 2.5), np.percentile(all_distances, 97.5)\n",
    "originalTVD = total_variation(dfProp['sample'], dfProp['pop'])\n",
    "\n",
    "plt.figure(figsize=(10,5))\n",
    "\n",
    "plt.hist(all_distances, bins=15, edgecolor='blue')\n",
    "plt.ylabel('Numero de Amostras de Tamanho 4895')\n",
    "plt.xlabel('Total Variation Distance')\n",
    "plt.plot(originalTVD, [0], 'ro', ms=15)\n",
    "plt.vlines(superior, 0, 1000, color='r')\n",
    "\n",
    "plt.show()"
   ]
  },
  {
   "cell_type": "markdown",
   "metadata": {},
   "source": [
    "O TVD observado está fora do intervalo de confiança calculado acima, ou seja, <b>temos evidência suficiente para rejeitar a hipótese nula.</b><br>\n",
    "<h3> Podemos concluir então que a proporção de mortes por raça/etnia não é equivalente. </h3>"
   ]
  },
  {
   "cell_type": "markdown",
   "metadata": {},
   "source": [
    "# B) Hipótese Nula: A proporção de mortes dos 25 estados com mais armas de fogo é igual a dos outros 25 estados"
   ]
  },
  {
   "cell_type": "markdown",
   "metadata": {},
   "source": [
    "##### Ou seja, queremos testar se a população estar armada interfere ou não no número de mortes causadas pela polícia. Para isso, pesquisamos a ordem dos estados com mais armas por habitante e definimos a hipótese nula como \"A proporção de morte dos 25 estados com mais armams de fogo é igual a dos outros 25 estados\"."
   ]
  },
  {
   "cell_type": "code",
   "execution_count": 98,
   "metadata": {},
   "outputs": [
    {
     "data": {
      "text/html": [
       "<div>\n",
       "<style scoped>\n",
       "    .dataframe tbody tr th:only-of-type {\n",
       "        vertical-align: middle;\n",
       "    }\n",
       "\n",
       "    .dataframe tbody tr th {\n",
       "        vertical-align: top;\n",
       "    }\n",
       "\n",
       "    .dataframe thead th {\n",
       "        text-align: right;\n",
       "    }\n",
       "</style>\n",
       "<table border=\"1\" class=\"dataframe\">\n",
       "  <thead>\n",
       "    <tr style=\"text-align: right;\">\n",
       "      <th></th>\n",
       "      <th>Deaths</th>\n",
       "      <th>StateCategory</th>\n",
       "      <th>StatePop</th>\n",
       "      <th>DeathsPerMilion</th>\n",
       "    </tr>\n",
       "    <tr>\n",
       "      <th>APP</th>\n",
       "      <th></th>\n",
       "      <th></th>\n",
       "      <th></th>\n",
       "      <th></th>\n",
       "    </tr>\n",
       "  </thead>\n",
       "  <tbody>\n",
       "    <tr>\n",
       "      <th>0</th>\n",
       "      <td>2469</td>\n",
       "      <td>25 Least Armed States</td>\n",
       "      <td>198307811</td>\n",
       "      <td>12.450342</td>\n",
       "    </tr>\n",
       "    <tr>\n",
       "      <th>1</th>\n",
       "      <td>2426</td>\n",
       "      <td>25 Most Armed States</td>\n",
       "      <td>126165559</td>\n",
       "      <td>19.228703</td>\n",
       "    </tr>\n",
       "  </tbody>\n",
       "</table>\n",
       "</div>"
      ],
      "text/plain": [
       "     Deaths          StateCategory   StatePop  DeathsPerMilion\n",
       "APP                                                           \n",
       "0      2469  25 Least Armed States  198307811        12.450342\n",
       "1      2426   25 Most Armed States  126165559        19.228703"
      ]
     },
     "execution_count": 98,
     "metadata": {},
     "output_type": "execute_result"
    }
   ],
   "source": [
    "deathsArmedStates = dfShootings.groupby(['state']).size()\n",
    "deathsArmedStates = pd.DataFrame(deathsArmedStates)\n",
    "deathsArmedStates = deathsArmedStates.rename(columns = {0: 'Deaths'})\n",
    "deathsArmedStates['APP'] = 0\n",
    "deathsArmedStates.loc[['AK','AR','ID','WV','WY','MT','NM','AL','ND','HI','LA','SC','MS','KY','TN','NV','MN','TX','SD','WI','CO','IA','IN','FL','AZ'],'APP'] = 1\n",
    "deathsArmedStates = deathsArmedStates.groupby(['APP']).sum()\n",
    "\n",
    "#Filtrando a população dos 25 estados mais armados\n",
    "statePop = usPop.groupby(['State']).sum()\n",
    "statePop = statePop[['TotalPop']]\n",
    "statePop['APP'] = 0\n",
    "statePop.loc[['Alaska','Arkansas','Idaho','West Virginia','Wyoming','Montana','New Mexico','Alabama','North Dakota','Hawaii','Louisiana','South Carolina','Mississippi','Kentucky','Tennessee','Nevada','Minnesota','Texas','South Dakota','Wisconsin','Colorado','Iowa','Indiana','Florida','Arizona'],'APP'] = 1\n",
    "selectStatePop = statePop.groupby(['APP']).sum()\n",
    "\n",
    "\n",
    "#1º Linha: Estados MENOS armados; 2ª Linha: Estados MAIS armados\n",
    "deathsArmedStates['StateCategory'] = ['25 Least Armed States', '25 Most Armed States']\n",
    "deathsArmedStates['StatePop'] = selectStatePop['TotalPop']\n",
    "deathsArmedStates['DeathsPerMilion'] = (deathsArmedStates['Deaths']/deathsArmedStates['StatePop'])*1000000\n",
    "deathsArmedStates"
   ]
  },
  {
   "cell_type": "code",
   "execution_count": 99,
   "metadata": {},
   "outputs": [
    {
     "data": {
      "text/plain": [
       "6.778360845941998"
      ]
     },
     "execution_count": 99,
     "metadata": {},
     "output_type": "execute_result"
    }
   ],
   "source": [
    "t_obs = deathsArmedStates.loc[1]['DeathsPerMilion'] - deathsArmedStates.loc[0]['DeathsPerMilion']\n",
    "t_obs"
   ]
  },
  {
   "cell_type": "code",
   "execution_count": 100,
   "metadata": {},
   "outputs": [
    {
     "data": {
      "text/plain": [
       "array([-1.3723207 , 10.00504813,  5.36711144, ..., -3.1738797 ,\n",
       "        8.89409842,  3.59670112])"
      ]
     },
     "execution_count": 100,
     "metadata": {},
     "output_type": "execute_result"
    }
   ],
   "source": [
    "statePopRandom = statePop.copy()\n",
    "N = 10000\n",
    "diferencas = np.zeros(N)\n",
    "\n",
    "for i in range(N):\n",
    "    np.random.shuffle(statePopRandom['APP'].values)\n",
    "    selectStateRandom = statePopRandom.groupby(['APP']).sum()\n",
    "    \n",
    "    deathsArmedStates['StatePop'] = selectStateRandom['TotalPop']\n",
    "    deathsArmedStates['DeathsPerMilion'] = (deathsArmedStates['Deaths']/deathsArmedStates['StatePop'])*1000000\n",
    "    \n",
    "    diff = deathsArmedStates.loc[1]['DeathsPerMilion'] - deathsArmedStates.loc[0]['DeathsPerMilion']\n",
    "    diferencas[i] = diff\n",
    "diferencas"
   ]
  },
  {
   "cell_type": "code",
   "execution_count": 101,
   "metadata": {},
   "outputs": [
    {
     "data": {
      "text/plain": [
       "[<matplotlib.lines.Line2D at 0x1dd1b372fd0>]"
      ]
     },
     "execution_count": 101,
     "metadata": {},
     "output_type": "execute_result"
    },
    {
     "data": {
      "image/png": "[encoded data removed]",
      "text/plain": [
       "<Figure size 432x288 with 1 Axes>"
      ]
     },
     "metadata": {
      "needs_background": "light"
     },
     "output_type": "display_data"
    }
   ],
   "source": [
    "plt.hist(diferencas, bins=30, edgecolor='k')\n",
    "plt.xlabel('Diferença na Permutação')\n",
    "plt.ylabel('Pr(diff)')\n",
    "\n",
    "plt.plot(t_obs, [0], 'ro', ms=15)"
   ]
  },
  {
   "cell_type": "code",
   "execution_count": 102,
   "metadata": {},
   "outputs": [
    {
     "name": "stdout",
     "output_type": "stream",
     "text": [
      "Intervalo de confiança:  [-8.807732908760661, 11.312170123076376]\n",
      "Valor observado:  6.778360845941998\n"
     ]
    }
   ],
   "source": [
    "inferior, superior = np.percentile(diferencas, 2.5), np.percentile(diferencas, 97.5)\n",
    "print(\"Intervalo de confiança: \", [inferior, superior])\n",
    "print(\"Valor observado: \", t_obs)"
   ]
  },
  {
   "cell_type": "markdown",
   "metadata": {},
   "source": [
    "<b>Não temos evidências para rejeitar a hipótese nula</b>, pois o valor observado (6.77) está dentro do intervalo de confiança (-9.08, 10.99). Isto é, caso a ordem de estados mais armados fosse aleatória, não haveria diferença estatística no número de mortes causadas por policiais nos Estados Unidos.<br>\n",
    "<h3> Podemos concluir então que a proporção de mortes nos dois grupos de estados é igual."
   ]
  },
  {
   "cell_type": "code",
   "execution_count": null,
   "metadata": {},
   "outputs": [],
   "source": []
  }
 ],
 "metadata": {
  "kernelspec": {
   "display_name": "Python 3",
   "language": "python",
   "name": "python3"
  },
  "language_info": {
   "codemirror_mode": {
    "name": "ipython",
    "version": 3
   },
   "file_extension": ".py",
   "mimetype": "text/x-python",
   "name": "python",
   "nbconvert_exporter": "python",
   "pygments_lexer": "ipython3",
   "version": "3.8.3"
  }
 },
 "nbformat": 4,
 "nbformat_minor": 4
}
